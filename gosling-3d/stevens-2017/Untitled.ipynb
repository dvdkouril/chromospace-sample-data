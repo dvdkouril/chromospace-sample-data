{
 "cells": [
  {
   "cell_type": "code",
   "execution_count": null,
   "id": "41f3cd1d",
   "metadata": {
    "jupyter": {
     "source_hidden": true
    }
   },
   "outputs": [],
   "source": [
    "# /// script\n",
    "# requires-python = \">=3.13\"\n",
    "# dependencies = [\n",
    "#     \"duckdb\",\n",
    "#     \"numpy\",\n",
    "#     \"pyarrow\",\n",
    "# ]\n",
    "# ///"
   ]
  },
  {
   "cell_type": "code",
   "execution_count": 1,
   "id": "70131b61",
   "metadata": {},
   "outputs": [],
   "source": [
    "import duckdb"
   ]
  },
  {
   "cell_type": "code",
   "execution_count": 4,
   "id": "6f730c97-5187-402f-bd4d-71b180728201",
   "metadata": {},
   "outputs": [
    {
     "data": {
      "text/plain": [
       "┌────────┬────────┬────────┬─────────┬───────────┐\n",
       "│   x    │   y    │   z    │   chr   │   coord   │\n",
       "│ double │ double │ double │ varchar │   int64   │\n",
       "├────────┼────────┼────────┼─────────┼───────────┤\n",
       "│  9.938 │ -6.486 │ -1.413 │ chr a   │   3000000 │\n",
       "│  9.186 │  -7.26 │ -0.924 │ chr a   │   3100000 │\n",
       "│  8.522 │ -7.236 │  -0.53 │ chr a   │   3200000 │\n",
       "│  7.598 │ -6.794 │ -1.174 │ chr a   │   3300000 │\n",
       "│  6.961 │ -6.321 │ -0.707 │ chr a   │   3400000 │\n",
       "│  7.303 │ -5.744 │  0.358 │ chr a   │   3500000 │\n",
       "│  7.471 │ -5.079 │  -0.57 │ chr a   │   3600000 │\n",
       "│  7.653 │ -4.782 │  -1.28 │ chr a   │   3700000 │\n",
       "│  8.339 │ -5.284 │ -1.892 │ chr a   │   3800000 │\n",
       "│  9.051 │ -6.114 │ -2.713 │ chr a   │   3900000 │\n",
       "│    ·   │    ·   │    ·   │   ·     │      ·    │\n",
       "│    ·   │    ·   │    ·   │   ·     │      ·    │\n",
       "│    ·   │    ·   │    ·   │   ·     │      ·    │\n",
       "│ -5.273 │ 11.138 │ 19.141 │ chr a   │ 194500000 │\n",
       "│ -6.203 │ 10.759 │ 19.821 │ chr a   │ 194600000 │\n",
       "│  -6.97 │ 10.594 │ 20.609 │ chr a   │ 194700000 │\n",
       "│ -7.486 │ 10.096 │ 19.157 │ chr a   │ 194800000 │\n",
       "│ -7.832 │ 10.086 │ 18.134 │ chr a   │ 194900000 │\n",
       "│ -6.931 │  9.049 │ 18.171 │ chr a   │ 195000000 │\n",
       "│ -6.996 │  9.291 │ 17.721 │ chr a   │ 195100000 │\n",
       "│ -7.056 │  9.324 │ 17.051 │ chr a   │ 195200000 │\n",
       "│ -7.402 │  8.996 │ 15.843 │ chr a   │ 195300000 │\n",
       "│ -7.642 │  8.826 │ 16.047 │ chr a   │ 195400000 │\n",
       "├────────┴────────┴────────┴─────────┴───────────┤\n",
       "│ 1925 rows (20 shown)                 5 columns │\n",
       "└────────────────────────────────────────────────┘"
      ]
     },
     "execution_count": 4,
     "metadata": {},
     "output_type": "execute_result"
    }
   ],
   "source": [
    "# duckdb.sql(\"SELECT * FROM 'full-model.csv'\") \n",
    "duckdb.sql(\"SELECT * FROM 'full-model.csv' WHERE chr = 'chr a'\")"
   ]
  },
  {
   "cell_type": "code",
   "execution_count": 9,
   "id": "f03269d1-eb2c-44cd-a4fa-9fa34d4641dc",
   "metadata": {},
   "outputs": [
    {
     "name": "stdout",
     "output_type": "stream",
     "text": [
      "SELECT * FROM 'superimposition-example/Stevens-2017_GSM2219497_Cell_1_model_1.parquet' WHERE chr = 'chr a'\n",
      "SELECT * FROM 'superimposition-example/Stevens-2017_GSM2219497_Cell_1_model_2.parquet' WHERE chr = 'chr a'\n",
      "SELECT * FROM 'superimposition-example/Stevens-2017_GSM2219497_Cell_1_model_3.parquet' WHERE chr = 'chr a'\n",
      "SELECT * FROM 'superimposition-example/Stevens-2017_GSM2219497_Cell_1_model_4.parquet' WHERE chr = 'chr a'\n",
      "SELECT * FROM 'superimposition-example/Stevens-2017_GSM2219497_Cell_1_model_5.parquet' WHERE chr = 'chr a'\n",
      "SELECT * FROM 'superimposition-example/Stevens-2017_GSM2219497_Cell_1_model_6.parquet' WHERE chr = 'chr a'\n",
      "SELECT * FROM 'superimposition-example/Stevens-2017_GSM2219497_Cell_1_model_7.parquet' WHERE chr = 'chr a'\n",
      "SELECT * FROM 'superimposition-example/Stevens-2017_GSM2219497_Cell_1_model_8.parquet' WHERE chr = 'chr a'\n",
      "SELECT * FROM 'superimposition-example/Stevens-2017_GSM2219497_Cell_1_model_9.parquet' WHERE chr = 'chr a'\n",
      "SELECT * FROM 'superimposition-example/Stevens-2017_GSM2219497_Cell_1_model_10.parquet' WHERE chr = 'chr a'\n"
     ]
    }
   ],
   "source": [
    "for i in range(10):\n",
    "    modelNum = i + 1\n",
    "    chrToSelect = \"\\'chr a\\'\"\n",
    "    query = f\"SELECT * FROM 'superimposition-example/Stevens-2017_GSM2219497_Cell_1_model_{modelNum}.parquet' WHERE chr = {chrToSelect}\"\n",
    "    print(query)\n",
    "    duckdb.sql(query).write_csv(f\"Cell_1_model_{modelNum}.csv\")\n",
    "    "
   ]
  },
  {
   "cell_type": "code",
   "execution_count": 6,
   "id": "a221cca7-beaf-4ee1-972f-659ef9e594f7",
   "metadata": {},
   "outputs": [],
   "source": [
    "duckdb.sql(\"SELECT * FROM 'superimposition-example/Stevens-2017_GSM2219497_Cell_1_model_1.parquet' WHERE chr = 'chr a'\").write_csv(\"Cell_1_model_1.csv\")"
   ]
  },
  {
   "cell_type": "code",
   "execution_count": null,
   "id": "cbf0992e-089d-467c-a193-fde8cf5f9eca",
   "metadata": {},
   "outputs": [],
   "source": []
  }
 ],
 "metadata": {
  "kernelspec": {
   "display_name": "Python 3 (ipykernel)",
   "language": "python",
   "name": "python3"
  },
  "language_info": {
   "codemirror_mode": {
    "name": "ipython",
    "version": 3
   },
   "file_extension": ".py",
   "mimetype": "text/x-python",
   "name": "python",
   "nbconvert_exporter": "python",
   "pygments_lexer": "ipython3",
   "version": "3.13.0"
  }
 },
 "nbformat": 4,
 "nbformat_minor": 5
}
